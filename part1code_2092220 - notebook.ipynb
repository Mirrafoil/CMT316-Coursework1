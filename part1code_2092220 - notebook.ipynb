{
 "cells": [
  {
   "cell_type": "markdown",
   "id": "southwest-arlington",
   "metadata": {},
   "source": [
    "# Jupyter Notebook to accompany Part 1 of Coursework 1\n",
    "\n",
    "## Peter Kennedy - 2092220"
   ]
  },
  {
   "cell_type": "code",
   "execution_count": 1,
   "id": "integral-boards",
   "metadata": {},
   "outputs": [
    {
     "name": "stderr",
     "output_type": "stream",
     "text": [
      "Using TensorFlow backend.\n",
      "/Users/pete/anaconda3/envs/CMT316-Coursework1/lib/python3.7/site-packages/tensorflow/python/framework/dtypes.py:516: FutureWarning: Passing (type, 1) or '1type' as a synonym of type is deprecated; in a future version of numpy, it will be understood as (type, (1,)) / '(1,)type'.\n",
      "  _np_qint8 = np.dtype([(\"qint8\", np.int8, 1)])\n",
      "/Users/pete/anaconda3/envs/CMT316-Coursework1/lib/python3.7/site-packages/tensorflow/python/framework/dtypes.py:517: FutureWarning: Passing (type, 1) or '1type' as a synonym of type is deprecated; in a future version of numpy, it will be understood as (type, (1,)) / '(1,)type'.\n",
      "  _np_quint8 = np.dtype([(\"quint8\", np.uint8, 1)])\n",
      "/Users/pete/anaconda3/envs/CMT316-Coursework1/lib/python3.7/site-packages/tensorflow/python/framework/dtypes.py:518: FutureWarning: Passing (type, 1) or '1type' as a synonym of type is deprecated; in a future version of numpy, it will be understood as (type, (1,)) / '(1,)type'.\n",
      "  _np_qint16 = np.dtype([(\"qint16\", np.int16, 1)])\n",
      "/Users/pete/anaconda3/envs/CMT316-Coursework1/lib/python3.7/site-packages/tensorflow/python/framework/dtypes.py:519: FutureWarning: Passing (type, 1) or '1type' as a synonym of type is deprecated; in a future version of numpy, it will be understood as (type, (1,)) / '(1,)type'.\n",
      "  _np_quint16 = np.dtype([(\"quint16\", np.uint16, 1)])\n",
      "/Users/pete/anaconda3/envs/CMT316-Coursework1/lib/python3.7/site-packages/tensorflow/python/framework/dtypes.py:520: FutureWarning: Passing (type, 1) or '1type' as a synonym of type is deprecated; in a future version of numpy, it will be understood as (type, (1,)) / '(1,)type'.\n",
      "  _np_qint32 = np.dtype([(\"qint32\", np.int32, 1)])\n",
      "/Users/pete/anaconda3/envs/CMT316-Coursework1/lib/python3.7/site-packages/tensorflow/python/framework/dtypes.py:525: FutureWarning: Passing (type, 1) or '1type' as a synonym of type is deprecated; in a future version of numpy, it will be understood as (type, (1,)) / '(1,)type'.\n",
      "  np_resource = np.dtype([(\"resource\", np.ubyte, 1)])\n",
      "/Users/pete/anaconda3/envs/CMT316-Coursework1/lib/python3.7/site-packages/tensorboard/compat/tensorflow_stub/dtypes.py:541: FutureWarning: Passing (type, 1) or '1type' as a synonym of type is deprecated; in a future version of numpy, it will be understood as (type, (1,)) / '(1,)type'.\n",
      "  _np_qint8 = np.dtype([(\"qint8\", np.int8, 1)])\n",
      "/Users/pete/anaconda3/envs/CMT316-Coursework1/lib/python3.7/site-packages/tensorboard/compat/tensorflow_stub/dtypes.py:542: FutureWarning: Passing (type, 1) or '1type' as a synonym of type is deprecated; in a future version of numpy, it will be understood as (type, (1,)) / '(1,)type'.\n",
      "  _np_quint8 = np.dtype([(\"quint8\", np.uint8, 1)])\n",
      "/Users/pete/anaconda3/envs/CMT316-Coursework1/lib/python3.7/site-packages/tensorboard/compat/tensorflow_stub/dtypes.py:543: FutureWarning: Passing (type, 1) or '1type' as a synonym of type is deprecated; in a future version of numpy, it will be understood as (type, (1,)) / '(1,)type'.\n",
      "  _np_qint16 = np.dtype([(\"qint16\", np.int16, 1)])\n",
      "/Users/pete/anaconda3/envs/CMT316-Coursework1/lib/python3.7/site-packages/tensorboard/compat/tensorflow_stub/dtypes.py:544: FutureWarning: Passing (type, 1) or '1type' as a synonym of type is deprecated; in a future version of numpy, it will be understood as (type, (1,)) / '(1,)type'.\n",
      "  _np_quint16 = np.dtype([(\"quint16\", np.uint16, 1)])\n",
      "/Users/pete/anaconda3/envs/CMT316-Coursework1/lib/python3.7/site-packages/tensorboard/compat/tensorflow_stub/dtypes.py:545: FutureWarning: Passing (type, 1) or '1type' as a synonym of type is deprecated; in a future version of numpy, it will be understood as (type, (1,)) / '(1,)type'.\n",
      "  _np_qint32 = np.dtype([(\"qint32\", np.int32, 1)])\n",
      "/Users/pete/anaconda3/envs/CMT316-Coursework1/lib/python3.7/site-packages/tensorboard/compat/tensorflow_stub/dtypes.py:550: FutureWarning: Passing (type, 1) or '1type' as a synonym of type is deprecated; in a future version of numpy, it will be understood as (type, (1,)) / '(1,)type'.\n",
      "  np_resource = np.dtype([(\"resource\", np.ubyte, 1)])\n"
     ]
    }
   ],
   "source": [
    "import math\n",
    "import pandas as pd\n",
    "import numpy as np\n",
    "import sklearn\n",
    "from keras.models import Sequential\n",
    "from keras.layers import Dense\n",
    "from sklearn.metrics import mean_squared_error\n",
    "import tensorflow as tf\n",
    "from sklearn.preprocessing import StandardScaler\n",
    "from sklearn import svm\n",
    "from sklearn.metrics import classification_report"
   ]
  },
  {
   "cell_type": "code",
   "execution_count": 2,
   "id": "lasting-contest",
   "metadata": {},
   "outputs": [],
   "source": [
    "train_data = pd.read_csv('datasets_coursework1/real-state/train_full_Real-estate.csv')\n",
    "test_data = pd.read_csv('datasets_coursework1/real-state/test_full_Real-estate.csv')\n",
    "\n",
    "train_data['Y Expensive'] = 0\n",
    "test_data['Y Expensive'] = 0\n",
    "\n",
    "for i in range(len(train_data)):\n",
    "    if train_data.iloc[i,7] >= 30:\n",
    "        train_data.iloc[i,8] = 1\n",
    "        \n",
    "for i in range(len(test_data)):\n",
    "    if test_data.iloc[i,7] >= 30:\n",
    "        test_data.iloc[i,8] = 1\n",
    "\n",
    "train_data_np = np.array(train_data)\n",
    "\n",
    "X_train = []\n",
    "Y_train_reg = []\n",
    "Y_train_class = []\n",
    "\n",
    "for house in train_data_np:\n",
    "    X_train.append(house[1:7])\n",
    "    Y_train_reg.append(house[7])\n",
    "    Y_train_class.append(house[8])\n",
    "    \n",
    "test_data_np = np.array(test_data)\n",
    "\n",
    "X_test = []\n",
    "Y_test_reg = []\n",
    "Y_test_class = []\n",
    "\n",
    "for house in test_data_np:\n",
    "    X_test.append(house[1:7])\n",
    "    Y_test_reg.append(house[7])\n",
    "    Y_test_class.append(house[8])\n",
    "\n",
    "X_train_np = np.array(X_train)\n",
    "Y_train_reg_np = np.array(Y_train_reg)\n",
    "Y_train_class_np = np.array(Y_train_class)\n",
    "\n",
    "X_test_np = np.array(X_test)\n",
    "Y_test_reg_np = np.array(Y_test_reg)\n",
    "Y_test_class_np = np.array(Y_test_class)\n",
    "\n",
    "sc = StandardScaler()\n",
    "X_train_np_norm = sc.fit_transform(X_train_np)\n",
    "X_test_np_norm = sc.fit_transform(X_test_np)"
   ]
  },
  {
   "cell_type": "markdown",
   "id": "harmful-collins",
   "metadata": {},
   "source": [
    "# Regression"
   ]
  },
  {
   "cell_type": "code",
   "execution_count": 3,
   "id": "piano-alexandria",
   "metadata": {},
   "outputs": [
    {
     "name": "stdout",
     "output_type": "stream",
     "text": [
      "Model: \"sequential_1\"\n",
      "_________________________________________________________________\n",
      "Layer (type)                 Output Shape              Param #   \n",
      "=================================================================\n",
      "dense_1 (Dense)              (None, 6)                 42        \n",
      "_________________________________________________________________\n",
      "dense_2 (Dense)              (None, 6)                 42        \n",
      "_________________________________________________________________\n",
      "dense_3 (Dense)              (None, 1)                 7         \n",
      "=================================================================\n",
      "Total params: 91\n",
      "Trainable params: 91\n",
      "Non-trainable params: 0\n",
      "_________________________________________________________________\n",
      "None\n"
     ]
    }
   ],
   "source": [
    "model = Sequential() \n",
    "model.add(Dense(6, input_dim=6, activation='relu'))\n",
    "model.add(Dense(6, activation='relu'))\n",
    "model.add(Dense(1, activation='relu'))\n",
    "print (model.summary()) # .summary shows an overview of our model\n",
    "model.compile(optimizer='adam', loss=tf.keras.losses.MeanSquaredError(), metrics=['mse'])"
   ]
  },
  {
   "cell_type": "code",
   "execution_count": 4,
   "id": "great-matter",
   "metadata": {},
   "outputs": [
    {
     "name": "stdout",
     "output_type": "stream",
     "text": [
      "WARNING:tensorflow:From /Users/pete/anaconda3/envs/CMT316-Coursework1/lib/python3.7/site-packages/keras/backend/tensorflow_backend.py:422: The name tf.global_variables is deprecated. Please use tf.compat.v1.global_variables instead.\n",
      "\n"
     ]
    }
   ],
   "source": [
    "history = model.fit(X_train_np_norm, Y_train_reg_np, epochs=250, batch_size=10, verbose=0)"
   ]
  },
  {
   "cell_type": "code",
   "execution_count": 5,
   "id": "distinguished-shipping",
   "metadata": {},
   "outputs": [],
   "source": [
    "def regresseion_rmse(model, X, Y):\n",
    "    \n",
    "    Y_pred = model.predict(X)\n",
    "    rmse = math.sqrt(mean_squared_error(Y, Y_pred))\n",
    "    \n",
    "    return rmse"
   ]
  },
  {
   "cell_type": "code",
   "execution_count": 6,
   "id": "arabic-russia",
   "metadata": {},
   "outputs": [
    {
     "data": {
      "text/plain": [
       "7.454841217901494"
      ]
     },
     "execution_count": 6,
     "metadata": {},
     "output_type": "execute_result"
    }
   ],
   "source": [
    "regresseion_rmse(model, X_test_np_norm, Y_test_reg_np)"
   ]
  },
  {
   "cell_type": "markdown",
   "id": "noticed-structure",
   "metadata": {},
   "source": [
    "# Classification"
   ]
  },
  {
   "cell_type": "code",
   "execution_count": 7,
   "id": "prime-schema",
   "metadata": {},
   "outputs": [
    {
     "data": {
      "text/plain": [
       "SVC(gamma='auto', kernel='linear')"
      ]
     },
     "execution_count": 7,
     "metadata": {},
     "output_type": "execute_result"
    }
   ],
   "source": [
    "svm_clf = sklearn.svm.SVC(kernel='linear', gamma='auto')\n",
    "svm_clf.fit(X_train_np_norm, Y_train_class_np)"
   ]
  },
  {
   "cell_type": "code",
   "execution_count": 8,
   "id": "outside-degree",
   "metadata": {},
   "outputs": [],
   "source": [
    "Y_test_class_predictions = svm_clf.predict(X_test_np_norm)"
   ]
  },
  {
   "cell_type": "code",
   "execution_count": 9,
   "id": "excited-ending",
   "metadata": {},
   "outputs": [
    {
     "name": "stdout",
     "output_type": "stream",
     "text": [
      "              precision    recall  f1-score   support\n",
      "\n",
      "         0.0       0.81      0.81      0.81        32\n",
      "         1.0       0.93      0.93      0.93        81\n",
      "\n",
      "    accuracy                           0.89       113\n",
      "   macro avg       0.87      0.87      0.87       113\n",
      "weighted avg       0.89      0.89      0.89       113\n",
      "\n"
     ]
    }
   ],
   "source": [
    "print(classification_report(Y_test_class_np, Y_test_class_predictions))"
   ]
  },
  {
   "cell_type": "code",
   "execution_count": null,
   "id": "polished-judges",
   "metadata": {},
   "outputs": [],
   "source": []
  }
 ],
 "metadata": {
  "kernelspec": {
   "display_name": "Python 3",
   "language": "python",
   "name": "python3"
  },
  "language_info": {
   "codemirror_mode": {
    "name": "ipython",
    "version": 3
   },
   "file_extension": ".py",
   "mimetype": "text/x-python",
   "name": "python",
   "nbconvert_exporter": "python",
   "pygments_lexer": "ipython3",
   "version": "3.7.10"
  }
 },
 "nbformat": 4,
 "nbformat_minor": 5
}
